{
 "cells": [
  {
   "cell_type": "markdown",
   "metadata": {},
   "source": [
    "# CLASSIFICATION: LOGISTIC REGRESSION "
   ]
  },
  {
   "cell_type": "code",
   "execution_count": 1,
   "metadata": {
    "collapsed": true
   },
   "outputs": [],
   "source": [
    "import numpy as np\n",
    "import pandas as pd\n",
    "import matplotlib.pyplot as plt \n",
    "\n",
    "%matplotlib inline"
   ]
  },
  {
   "cell_type": "code",
   "execution_count": 2,
   "metadata": {
    "collapsed": true
   },
   "outputs": [],
   "source": [
    "data = pd.read_csv(\"Social_Network_Ads.csv\")"
   ]
  },
  {
   "cell_type": "code",
   "execution_count": 3,
   "metadata": {},
   "outputs": [
    {
     "data": {
      "text/html": [
       "<div>\n",
       "<style>\n",
       "    .dataframe thead tr:only-child th {\n",
       "        text-align: right;\n",
       "    }\n",
       "\n",
       "    .dataframe thead th {\n",
       "        text-align: left;\n",
       "    }\n",
       "\n",
       "    .dataframe tbody tr th {\n",
       "        vertical-align: top;\n",
       "    }\n",
       "</style>\n",
       "<table border=\"1\" class=\"dataframe\">\n",
       "  <thead>\n",
       "    <tr style=\"text-align: right;\">\n",
       "      <th></th>\n",
       "      <th>User ID</th>\n",
       "      <th>Gender</th>\n",
       "      <th>Age</th>\n",
       "      <th>EstimatedSalary</th>\n",
       "      <th>Purchased</th>\n",
       "    </tr>\n",
       "  </thead>\n",
       "  <tbody>\n",
       "    <tr>\n",
       "      <th>0</th>\n",
       "      <td>15624510</td>\n",
       "      <td>Male</td>\n",
       "      <td>19</td>\n",
       "      <td>19000</td>\n",
       "      <td>0</td>\n",
       "    </tr>\n",
       "    <tr>\n",
       "      <th>1</th>\n",
       "      <td>15810944</td>\n",
       "      <td>Male</td>\n",
       "      <td>35</td>\n",
       "      <td>20000</td>\n",
       "      <td>0</td>\n",
       "    </tr>\n",
       "    <tr>\n",
       "      <th>2</th>\n",
       "      <td>15668575</td>\n",
       "      <td>Female</td>\n",
       "      <td>26</td>\n",
       "      <td>43000</td>\n",
       "      <td>0</td>\n",
       "    </tr>\n",
       "    <tr>\n",
       "      <th>3</th>\n",
       "      <td>15603246</td>\n",
       "      <td>Female</td>\n",
       "      <td>27</td>\n",
       "      <td>57000</td>\n",
       "      <td>0</td>\n",
       "    </tr>\n",
       "    <tr>\n",
       "      <th>4</th>\n",
       "      <td>15804002</td>\n",
       "      <td>Male</td>\n",
       "      <td>19</td>\n",
       "      <td>76000</td>\n",
       "      <td>0</td>\n",
       "    </tr>\n",
       "  </tbody>\n",
       "</table>\n",
       "</div>"
      ],
      "text/plain": [
       "    User ID  Gender  Age  EstimatedSalary  Purchased\n",
       "0  15624510    Male   19            19000          0\n",
       "1  15810944    Male   35            20000          0\n",
       "2  15668575  Female   26            43000          0\n",
       "3  15603246  Female   27            57000          0\n",
       "4  15804002    Male   19            76000          0"
      ]
     },
     "execution_count": 3,
     "metadata": {},
     "output_type": "execute_result"
    }
   ],
   "source": [
    "data.head(5)"
   ]
  },
  {
   "cell_type": "code",
   "execution_count": 4,
   "metadata": {},
   "outputs": [
    {
     "name": "stdout",
     "output_type": "stream",
     "text": [
      "<class 'pandas.core.frame.DataFrame'>\n",
      "RangeIndex: 400 entries, 0 to 399\n",
      "Data columns (total 5 columns):\n",
      "User ID            400 non-null int64\n",
      "Gender             400 non-null object\n",
      "Age                400 non-null int64\n",
      "EstimatedSalary    400 non-null int64\n",
      "Purchased          400 non-null int64\n",
      "dtypes: int64(4), object(1)\n",
      "memory usage: 15.7+ KB\n"
     ]
    }
   ],
   "source": [
    "data.info()"
   ]
  },
  {
   "cell_type": "code",
   "execution_count": 5,
   "metadata": {},
   "outputs": [
    {
     "data": {
      "text/plain": [
       "User ID            0\n",
       "Gender             0\n",
       "Age                0\n",
       "EstimatedSalary    0\n",
       "Purchased          0\n",
       "dtype: int64"
      ]
     },
     "execution_count": 5,
     "metadata": {},
     "output_type": "execute_result"
    }
   ],
   "source": [
    "data.isnull() .sum()"
   ]
  },
  {
   "cell_type": "code",
   "execution_count": 6,
   "metadata": {},
   "outputs": [
    {
     "data": {
      "text/plain": [
       "0    1\n",
       "1    1\n",
       "2    0\n",
       "3    0\n",
       "4    1\n",
       "Name: Gender, dtype: int64"
      ]
     },
     "execution_count": 6,
     "metadata": {},
     "output_type": "execute_result"
    }
   ],
   "source": [
    "from sklearn.preprocessing import LabelEncoder\n",
    "encoder = LabelEncoder()\n",
    "data['Gender'] = encoder.fit_transform(data['Gender'])\n",
    "data['Gender'].head()"
   ]
  },
  {
   "cell_type": "code",
   "execution_count": 7,
   "metadata": {},
   "outputs": [
    {
     "name": "stdout",
     "output_type": "stream",
     "text": [
      "<class 'pandas.core.frame.DataFrame'>\n",
      "RangeIndex: 400 entries, 0 to 399\n",
      "Data columns (total 5 columns):\n",
      "User ID            400 non-null int64\n",
      "Gender             400 non-null int64\n",
      "Age                400 non-null int64\n",
      "EstimatedSalary    400 non-null int64\n",
      "Purchased          400 non-null int64\n",
      "dtypes: int64(5)\n",
      "memory usage: 15.7 KB\n"
     ]
    }
   ],
   "source": [
    "data.info()"
   ]
  },
  {
   "cell_type": "code",
   "execution_count": 8,
   "metadata": {},
   "outputs": [
    {
     "data": {
      "text/plain": [
       "array([[    1,    19, 19000,     0],\n",
       "       [    1,    35, 20000,     0],\n",
       "       [    0,    26, 43000,     0],\n",
       "       ..., \n",
       "       [    0,    50, 20000,     1],\n",
       "       [    1,    36, 33000,     0],\n",
       "       [    0,    49, 36000,     1]], dtype=int64)"
      ]
     },
     "execution_count": 8,
     "metadata": {},
     "output_type": "execute_result"
    }
   ],
   "source": [
    "x = data.iloc[:, 1:].values\n",
    "y = data.iloc[:, -1].values\n",
    "x"
   ]
  },
  {
   "cell_type": "code",
   "execution_count": 9,
   "metadata": {},
   "outputs": [
    {
     "data": {
      "text/plain": [
       "array([0, 0, 0, 0, 0, 0, 0, 1, 0, 0, 0, 0, 0, 0, 0, 0, 1, 1, 1, 1, 1, 1, 1,\n",
       "       1, 1, 1, 1, 1, 0, 0, 0, 1, 0, 0, 0, 0, 0, 0, 0, 0, 0, 0, 0, 0, 0, 0,\n",
       "       0, 0, 1, 0, 0, 0, 0, 0, 0, 0, 0, 0, 0, 0, 0, 0, 0, 1, 0, 0, 0, 0, 0,\n",
       "       0, 0, 0, 0, 0, 0, 1, 0, 0, 0, 0, 0, 0, 0, 0, 0, 1, 0, 0, 0, 0, 0, 0,\n",
       "       0, 0, 0, 0, 0, 1, 0, 0, 0, 0, 0, 1, 0, 0, 0, 0, 0, 0, 0, 0, 0, 0, 0,\n",
       "       0, 0, 0, 0, 0, 0, 0, 0, 0, 0, 0, 0, 0, 0, 0, 0, 0, 0, 0, 0, 0, 0, 1,\n",
       "       0, 0, 0, 0, 0, 0, 0, 0, 1, 0, 0, 0, 0, 0, 0, 0, 0, 0, 0, 0, 0, 1, 1,\n",
       "       0, 0, 0, 0, 0, 0, 0, 1, 0, 0, 0, 0, 0, 0, 0, 0, 0, 0, 0, 0, 0, 1, 0,\n",
       "       0, 0, 0, 0, 0, 0, 0, 0, 0, 0, 0, 0, 0, 0, 0, 0, 0, 0, 1, 0, 1, 0, 1,\n",
       "       0, 1, 0, 1, 1, 0, 0, 0, 1, 0, 0, 0, 1, 0, 1, 1, 1, 0, 0, 1, 1, 0, 1,\n",
       "       1, 0, 1, 1, 0, 1, 0, 0, 0, 1, 1, 0, 1, 1, 0, 1, 0, 1, 0, 1, 0, 0, 1,\n",
       "       1, 0, 1, 0, 0, 1, 1, 0, 1, 1, 0, 1, 1, 0, 0, 1, 0, 0, 1, 1, 1, 1, 1,\n",
       "       0, 1, 1, 1, 1, 0, 1, 1, 0, 1, 0, 1, 0, 1, 1, 1, 1, 0, 0, 0, 1, 1, 0,\n",
       "       1, 1, 1, 1, 1, 0, 0, 0, 1, 1, 0, 0, 1, 0, 1, 0, 1, 1, 0, 1, 0, 1, 1,\n",
       "       0, 1, 1, 0, 0, 0, 1, 1, 0, 1, 0, 0, 1, 0, 1, 0, 0, 1, 1, 0, 0, 1, 1,\n",
       "       0, 1, 1, 0, 0, 1, 0, 1, 0, 1, 1, 1, 0, 1, 0, 1, 1, 1, 0, 1, 1, 1, 1,\n",
       "       0, 1, 1, 1, 0, 1, 0, 1, 0, 0, 1, 1, 0, 1, 1, 1, 1, 1, 1, 0, 1, 1, 1,\n",
       "       1, 1, 1, 0, 1, 1, 1, 0, 1], dtype=int64)"
      ]
     },
     "execution_count": 9,
     "metadata": {},
     "output_type": "execute_result"
    }
   ],
   "source": [
    "y"
   ]
  },
  {
   "cell_type": "code",
   "execution_count": 27,
   "metadata": {},
   "outputs": [
    {
     "data": {
      "text/plain": [
       "array([1, 1, 0, 0, 1, 1, 0, 0, 1, 0, 0, 0, 1, 1, 1, 1, 1, 1, 1, 0, 1, 0, 1,\n",
       "       0, 1, 1, 1, 0, 1, 1, 1, 0, 0, 0, 1, 1, 0, 1, 0, 0, 0, 0, 1, 1, 0, 1,\n",
       "       1, 0, 1, 0, 0, 0, 0, 0, 0, 0, 0, 1, 1, 0, 1, 1, 0, 1, 0, 1, 1, 0, 0,\n",
       "       0, 1, 0, 0, 0, 1, 1, 1, 0, 0, 0, 1, 1, 1, 1, 0, 0, 1, 0, 1, 1, 1, 0,\n",
       "       1, 0, 0, 0, 0, 1, 1, 0, 1, 1, 0, 0, 0, 1, 0, 1, 1, 0, 0, 0, 1, 1, 1,\n",
       "       1, 1, 1, 1, 1, 0, 1, 0, 1, 0, 0, 1, 1, 1, 0, 1, 1, 1, 0, 0, 1, 0, 1,\n",
       "       0, 1, 1, 0, 1, 1, 0, 0, 0, 0, 1, 1, 0, 1, 1, 0, 1, 0, 1, 1, 1, 0, 1,\n",
       "       1, 0, 1, 0, 0, 0, 0, 1, 0, 1, 1, 0, 0, 0, 0, 0, 1, 1, 0, 1, 0, 0, 1,\n",
       "       0, 1, 0, 0, 1, 1, 1, 0, 1, 1, 1, 1, 0, 0, 1, 1, 1, 1, 0, 0, 0, 0, 0,\n",
       "       0, 0, 0, 0, 1, 0, 1, 1, 0, 1, 1, 0, 1, 0, 1, 1, 1, 0, 1, 0, 1, 0, 0,\n",
       "       0, 1, 1, 1, 0, 1, 1, 0, 0, 0, 1, 1, 0, 0, 0, 0, 0, 0, 1, 0, 0, 1, 0,\n",
       "       0, 0, 0, 0, 1, 0, 0, 0, 1, 0, 0, 1, 0, 1, 1, 0, 1, 0, 0, 1, 1, 0, 1,\n",
       "       1, 1, 0, 0, 0, 1, 1, 0, 1, 0, 0, 0, 1, 0, 1, 1, 1, 1, 0, 0, 1, 0, 1,\n",
       "       1, 0, 1, 0, 1, 0, 1, 0, 0, 1, 0, 0, 1, 0, 0, 0, 0, 0, 1, 1, 1, 0, 0,\n",
       "       1, 0, 0, 0, 1, 0, 1, 0, 1, 0, 1, 1, 1, 0, 1, 1, 0, 1, 0, 1, 0, 0, 1,\n",
       "       0, 1, 0, 1, 1, 0, 1, 0, 0, 1, 1, 1, 0, 1, 1, 1, 0, 0, 0, 1, 0, 0, 1,\n",
       "       1, 0, 0, 1, 0, 1, 0, 0, 0, 0, 1, 0, 1, 1, 0, 1, 0, 1, 0, 1, 1, 0, 1,\n",
       "       1, 0, 1, 0, 0, 1, 0, 1, 0], dtype=int64)"
      ]
     },
     "execution_count": 27,
     "metadata": {},
     "output_type": "execute_result"
    }
   ],
   "source": [
    "from sklearn.preprocessing import LabelEncoder, OneHotEncoder\n",
    "encoder = LabelEncoder()\n",
    "x[:, 0] = encoder.fit_transform(x[:, 0])\n",
    "x[:, 0]"
   ]
  },
  {
   "cell_type": "code",
   "execution_count": null,
   "metadata": {
    "collapsed": true
   },
   "outputs": [],
   "source": []
  },
  {
   "cell_type": "code",
   "execution_count": 11,
   "metadata": {
    "collapsed": true
   },
   "outputs": [],
   "source": [
    "from sklearn.model_selection import train_test_split\n",
    "x_train, x_test, y_train, y_test = train_test_split(x,y, test_size = 0.2, random_state = 0)"
   ]
  },
  {
   "cell_type": "code",
   "execution_count": 12,
   "metadata": {},
   "outputs": [
    {
     "name": "stderr",
     "output_type": "stream",
     "text": [
      "C:\\Users\\DELL\\Anaconda3\\lib\\site-packages\\sklearn\\utils\\validation.py:429: DataConversionWarning: Data with input dtype int64 was converted to float64 by StandardScaler.\n",
      "  warnings.warn(msg, _DataConversionWarning)\n"
     ]
    }
   ],
   "source": [
    "from sklearn.preprocessing import StandardScaler\n",
    "sc = StandardScaler()\n",
    "x_train = sc.fit_transform(x_train)\n",
    "x_test = sc.transform(x_test)"
   ]
  },
  {
   "cell_type": "code",
   "execution_count": 13,
   "metadata": {},
   "outputs": [
    {
     "data": {
      "text/plain": [
       "array([[ 1.02532046,  1.92295008,  2.14601566,  1.28243054],\n",
       "       [-0.97530483,  2.02016082,  0.3787193 , -0.77976933],\n",
       "       [-0.97530483, -1.3822153 , -0.4324987 , -0.77976933],\n",
       "       ..., \n",
       "       [ 1.02532046, -0.21568634, -0.51941492, -0.77976933],\n",
       "       [-0.97530483, -1.09058306, -0.46147078, -0.77976933],\n",
       "       [-0.97530483, -1.18779381,  1.3927418 , -0.77976933]])"
      ]
     },
     "execution_count": 13,
     "metadata": {},
     "output_type": "execute_result"
    }
   ],
   "source": [
    "x_train #For the train\n"
   ]
  },
  {
   "cell_type": "code",
   "execution_count": 14,
   "metadata": {},
   "outputs": [
    {
     "data": {
      "text/plain": [
       "array([[  1.02532046e+00,  -7.98950822e-01,   4.94607583e-01,\n",
       "         -7.79769326e-01],\n",
       "       [ -9.75304830e-01,  -2.12648508e-02,  -5.77359062e-01,\n",
       "         -7.79769326e-01],\n",
       "       [  1.02532046e+00,  -3.12897090e-01,   1.46942725e-01,\n",
       "         -7.79769326e-01],\n",
       "       [ -9.75304830e-01,  -7.98950822e-01,   2.62831011e-01,\n",
       "         -7.79769326e-01],\n",
       "       [ -9.75304830e-01,  -3.12897090e-01,  -5.77359062e-01,\n",
       "         -7.79769326e-01],\n",
       "       [  1.02532046e+00,  -1.09058306e+00,  -1.44652121e+00,\n",
       "         -7.79769326e-01],\n",
       "       [ -9.75304830e-01,  -7.01740076e-01,  -1.59138156e+00,\n",
       "         -7.79769326e-01],\n",
       "       [  1.02532046e+00,  -2.15686344e-01,   2.14601566e+00,\n",
       "          1.28243054e+00],\n",
       "       [ -9.75304830e-01,  -1.96547978e+00,  -5.58617754e-02,\n",
       "         -7.79769326e-01],\n",
       "       [  1.02532046e+00,   8.53631867e-01,  -7.80163563e-01,\n",
       "         -7.79769326e-01],\n",
       "       [  1.02532046e+00,  -7.98950822e-01,  -6.06331134e-01,\n",
       "         -7.79769326e-01],\n",
       "       [ -9.75304830e-01,  -9.93372315e-01,  -4.32498705e-01,\n",
       "         -7.79769326e-01],\n",
       "       [  1.02532046e+00,  -1.18475597e-01,  -4.32498705e-01,\n",
       "         -7.79769326e-01],\n",
       "       [  1.02532046e+00,   7.59458956e-02,   2.04886868e-01,\n",
       "         -7.79769326e-01],\n",
       "       [  1.02532046e+00,  -1.77105829e+00,   4.65635512e-01,\n",
       "         -7.79769326e-01],\n",
       "       [ -9.75304830e-01,  -6.04529329e-01,   1.36376973e+00,\n",
       "         -7.79769326e-01],\n",
       "       [  1.02532046e+00,  -1.18475597e-01,   2.04886868e-01,\n",
       "         -7.79769326e-01],\n",
       "       [  1.02532046e+00,  -1.86826903e+00,   4.36663440e-01,\n",
       "         -7.79769326e-01],\n",
       "       [ -9.75304830e-01,   1.63131784e+00,   1.74040666e+00,\n",
       "          1.28243054e+00],\n",
       "       [  1.02532046e+00,  -3.12897090e-01,  -1.38857706e+00,\n",
       "         -7.79769326e-01],\n",
       "       [ -9.75304830e-01,  -3.12897090e-01,  -6.64275277e-01,\n",
       "         -7.79769326e-01],\n",
       "       [ -9.75304830e-01,   8.53631867e-01,   2.14601566e+00,\n",
       "          1.28243054e+00],\n",
       "       [ -9.75304830e-01,   2.70367388e-01,  -5.48386991e-01,\n",
       "         -7.79769326e-01],\n",
       "       [  1.02532046e+00,   8.53631867e-01,   1.01610487e+00,\n",
       "          1.28243054e+00],\n",
       "       [ -9.75304830e-01,  -1.47942605e+00,  -1.21474464e+00,\n",
       "         -7.79769326e-01],\n",
       "       [ -9.75304830e-01,   1.04805336e+00,   2.05909944e+00,\n",
       "          1.28243054e+00],\n",
       "       [ -9.75304830e-01,  -9.93372315e-01,   4.94607583e-01,\n",
       "         -7.79769326e-01],\n",
       "       [  1.02532046e+00,  -8.96161568e-01,   2.91803083e-01,\n",
       "         -7.79769326e-01],\n",
       "       [ -9.75304830e-01,  -1.18475597e-01,  -2.29694204e-01,\n",
       "         -7.79769326e-01],\n",
       "       [ -9.75304830e-01,  -6.04529329e-01,   4.65635512e-01,\n",
       "         -7.79769326e-01],\n",
       "       [  1.02532046e+00,  -1.67384754e+00,   5.23579655e-01,\n",
       "         -7.79769326e-01],\n",
       "       [  1.02532046e+00,  -1.18475597e-01,   2.62831011e-01,\n",
       "          1.28243054e+00],\n",
       "       [  1.02532046e+00,   1.82573933e+00,  -2.87638347e-01,\n",
       "          1.28243054e+00],\n",
       "       [  1.02532046e+00,  -1.18475597e-01,  -4.90442848e-01,\n",
       "         -7.79769326e-01],\n",
       "       [  1.02532046e+00,  -1.38221530e+00,  -3.45582490e-01,\n",
       "         -7.79769326e-01],\n",
       "       [  1.02532046e+00,  -1.96547978e+00,  -5.19414919e-01,\n",
       "         -7.79769326e-01],\n",
       "       [  1.02532046e+00,  -1.57663679e+00,   3.20775154e-01,\n",
       "         -7.79769326e-01],\n",
       "       [ -9.75304830e-01,  -4.10107836e-01,  -7.80163563e-01,\n",
       "         -7.79769326e-01],\n",
       "       [ -9.75304830e-01,  -7.01740076e-01,  -1.04091221e+00,\n",
       "         -7.79769326e-01],\n",
       "       [ -9.75304830e-01,   1.04805336e+00,  -9.82968063e-01,\n",
       "          1.28243054e+00],\n",
       "       [  1.02532046e+00,  -1.09058306e+00,   5.23579655e-01,\n",
       "         -7.79769326e-01],\n",
       "       [  1.02532046e+00,   2.70367388e-01,  -5.19414919e-01,\n",
       "         -7.79769326e-01],\n",
       "       [ -9.75304830e-01,  -1.09058306e+00,   4.07691369e-01,\n",
       "         -7.79769326e-01],\n",
       "       [  1.02532046e+00,  -3.12897090e-01,  -1.44652121e+00,\n",
       "         -7.79769326e-01],\n",
       "       [ -9.75304830e-01,   4.64788881e-01,   1.21890937e+00,\n",
       "          1.28243054e+00],\n",
       "       [ -9.75304830e-01,  -1.09058306e+00,  -3.45582490e-01,\n",
       "         -7.79769326e-01],\n",
       "       [ -9.75304830e-01,  -1.18475597e-01,   2.91803083e-01,\n",
       "         -7.79769326e-01],\n",
       "       [ -9.75304830e-01,   1.33968560e+00,   5.81523798e-01,\n",
       "          1.28243054e+00],\n",
       "       [  1.02532046e+00,  -1.18779381e+00,  -1.15680049e+00,\n",
       "         -7.79769326e-01],\n",
       "       [  1.02532046e+00,   1.04805336e+00,   4.65635512e-01,\n",
       "          1.28243054e+00],\n",
       "       [ -9.75304830e-01,   1.82573933e+00,   1.50863009e+00,\n",
       "          1.28243054e+00],\n",
       "       [ -9.75304830e-01,  -4.10107836e-01,  -1.30166085e+00,\n",
       "         -7.79769326e-01],\n",
       "       [ -9.75304830e-01,  -3.12897090e-01,  -3.74554562e-01,\n",
       "         -7.79769326e-01],\n",
       "       [  1.02532046e+00,  -4.10107836e-01,   1.30582558e+00,\n",
       "         -7.79769326e-01],\n",
       "       [ -9.75304830e-01,   2.02016082e+00,   5.23579655e-01,\n",
       "          1.28243054e+00],\n",
       "       [  1.02532046e+00,   6.59210374e-01,  -1.09885635e+00,\n",
       "          1.28243054e+00],\n",
       "       [ -9.75304830e-01,  -8.96161568e-01,   3.78719297e-01,\n",
       "         -7.79769326e-01],\n",
       "       [ -9.75304830e-01,  -1.18779381e+00,   2.91803083e-01,\n",
       "         -7.79769326e-01],\n",
       "       [  1.02532046e+00,   1.04805336e+00,  -1.21474464e+00,\n",
       "          1.28243054e+00],\n",
       "       [  1.02532046e+00,  -1.47942605e+00,  -1.44652121e+00,\n",
       "         -7.79769326e-01],\n",
       "       [  1.02532046e+00,  -6.04529329e-01,  -1.50446535e+00,\n",
       "         -7.79769326e-01],\n",
       "       [  1.02532046e+00,   2.11737157e+00,  -8.09135634e-01,\n",
       "          1.28243054e+00],\n",
       "       [  1.02532046e+00,  -1.86826903e+00,   1.75914797e-01,\n",
       "         -7.79769326e-01],\n",
       "       [  1.02532046e+00,  -2.15686344e-01,   8.42272441e-01,\n",
       "          1.28243054e+00],\n",
       "       [ -9.75304830e-01,  -1.86826903e+00,  -1.27268878e+00,\n",
       "         -7.79769326e-01],\n",
       "       [  1.02532046e+00,   2.11737157e+00,   3.78719297e-01,\n",
       "          1.28243054e+00],\n",
       "       [ -9.75304830e-01,  -1.38221530e+00,   5.52551726e-01,\n",
       "         -7.79769326e-01],\n",
       "       [  1.02532046e+00,  -1.09058306e+00,  -3.45582490e-01,\n",
       "         -7.79769326e-01],\n",
       "       [  1.02532046e+00,   1.73156642e-01,  -6.64275277e-01,\n",
       "         -7.79769326e-01],\n",
       "       [ -9.75304830e-01,   3.67578135e-01,   2.08236764e-03,\n",
       "         -7.79769326e-01],\n",
       "       [ -9.75304830e-01,  -6.04529329e-01,   2.31984809e+00,\n",
       "          1.28243054e+00],\n",
       "       [ -9.75304830e-01,  -3.12897090e-01,   2.04886868e-01,\n",
       "         -7.79769326e-01],\n",
       "       [ -9.75304830e-01,  -1.57663679e+00,  -2.00722133e-01,\n",
       "         -7.79769326e-01],\n",
       "       [  1.02532046e+00,   6.59210374e-01,  -1.38857706e+00,\n",
       "          1.28243054e+00],\n",
       "       [  1.02532046e+00,  -1.09058306e+00,   5.52551726e-01,\n",
       "         -7.79769326e-01],\n",
       "       [  1.02532046e+00,  -1.96547978e+00,   3.49747226e-01,\n",
       "         -7.79769326e-01],\n",
       "       [ -9.75304830e-01,   3.67578135e-01,   2.62831011e-01,\n",
       "         -7.79769326e-01],\n",
       "       [ -9.75304830e-01,   1.73156642e-01,  -2.87638347e-01,\n",
       "         -7.79769326e-01],\n",
       "       [ -9.75304830e-01,   1.43689635e+00,  -1.04091221e+00,\n",
       "          1.28243054e+00],\n",
       "       [ -9.75304830e-01,   8.53631867e-01,   1.07404901e+00,\n",
       "          1.28243054e+00]])"
      ]
     },
     "execution_count": 14,
     "metadata": {},
     "output_type": "execute_result"
    }
   ],
   "source": [
    "x_test"
   ]
  },
  {
   "cell_type": "code",
   "execution_count": 15,
   "metadata": {},
   "outputs": [
    {
     "data": {
      "text/plain": [
       "LogisticRegression(C=1.0, class_weight=None, dual=False, fit_intercept=True,\n",
       "          intercept_scaling=1, max_iter=100, multi_class='ovr', n_jobs=1,\n",
       "          penalty='l2', random_state=None, solver='liblinear', tol=0.0001,\n",
       "          verbose=0, warm_start=False)"
      ]
     },
     "execution_count": 15,
     "metadata": {},
     "output_type": "execute_result"
    }
   ],
   "source": [
    "from sklearn.linear_model import LogisticRegression\n",
    "lr = LogisticRegression()\n",
    "lr.fit(x_train, y_train)"
   ]
  },
  {
   "cell_type": "code",
   "execution_count": 32,
   "metadata": {
    "collapsed": true
   },
   "outputs": [],
   "source": [
    "y_pred = lr.predict(x_test)"
   ]
  },
  {
   "cell_type": "code",
   "execution_count": 31,
   "metadata": {},
   "outputs": [
    {
     "data": {
      "text/plain": [
       "array([0, 0, 0, 0, 0, 0, 0, 1, 0, 0, 0, 0, 0, 0, 0, 0, 0, 0, 1, 0, 0, 1, 0,\n",
       "       1, 0, 1, 0, 0, 0, 0, 0, 1, 1, 0, 0, 0, 0, 0, 0, 1, 0, 0, 0, 0, 1, 0,\n",
       "       0, 1, 0, 1, 1, 0, 0, 0, 1, 1, 0, 0, 1, 0, 0, 1, 0, 1, 0, 1, 0, 0, 0,\n",
       "       0, 1, 0, 0, 1, 0, 0, 0, 0, 1, 1], dtype=int64)"
      ]
     },
     "execution_count": 31,
     "metadata": {},
     "output_type": "execute_result"
    }
   ],
   "source": [
    "y_pred"
   ]
  },
  {
   "cell_type": "code",
   "execution_count": 33,
   "metadata": {},
   "outputs": [
    {
     "data": {
      "text/plain": [
       "array([0, 0, 0, 0, 0, 0, 0, 1, 0, 0, 0, 0, 0, 0, 0, 0, 0, 0, 1, 0, 0, 1, 0,\n",
       "       1, 0, 1, 0, 0, 0, 0, 0, 1, 1, 0, 0, 0, 0, 0, 0, 1, 0, 0, 0, 0, 1, 0,\n",
       "       0, 1, 0, 1, 1, 0, 0, 0, 1, 1, 0, 0, 1, 0, 0, 1, 0, 1, 0, 1, 0, 0, 0,\n",
       "       0, 1, 0, 0, 1, 0, 0, 0, 0, 1, 1], dtype=int64)"
      ]
     },
     "execution_count": 33,
     "metadata": {},
     "output_type": "execute_result"
    }
   ],
   "source": [
    "y_test"
   ]
  },
  {
   "cell_type": "code",
   "execution_count": 19,
   "metadata": {
    "collapsed": true
   },
   "outputs": [],
   "source": [
    "from sklearn.metrics import confusion_matrix, classification_report"
   ]
  },
  {
   "cell_type": "code",
   "execution_count": 20,
   "metadata": {},
   "outputs": [
    {
     "data": {
      "text/plain": [
       "array([[58,  0],\n",
       "       [ 0, 22]])"
      ]
     },
     "execution_count": 20,
     "metadata": {},
     "output_type": "execute_result"
    }
   ],
   "source": [
    "confusion_matrix(y_test, y_pred)"
   ]
  },
  {
   "cell_type": "code",
   "execution_count": 21,
   "metadata": {},
   "outputs": [
    {
     "name": "stdout",
     "output_type": "stream",
     "text": [
      "             precision    recall  f1-score   support\n",
      "\n",
      "          0       1.00      1.00      1.00        58\n",
      "          1       1.00      1.00      1.00        22\n",
      "\n",
      "avg / total       1.00      1.00      1.00        80\n",
      "\n"
     ]
    }
   ],
   "source": [
    "print(classification_report(y_test, y_pred))"
   ]
  }
 ],
 "metadata": {
  "kernelspec": {
   "display_name": "Python 3",
   "language": "python",
   "name": "python3"
  },
  "language_info": {
   "codemirror_mode": {
    "name": "ipython",
    "version": 3
   },
   "file_extension": ".py",
   "mimetype": "text/x-python",
   "name": "python",
   "nbconvert_exporter": "python",
   "pygments_lexer": "ipython3",
   "version": "3.6.1"
  }
 },
 "nbformat": 4,
 "nbformat_minor": 2
}
